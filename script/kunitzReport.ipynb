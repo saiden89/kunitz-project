{
 "cells": [
  {
   "cell_type": "code",
   "execution_count": 1,
   "metadata": {},
   "outputs": [],
   "source": [
    "from Bio import SeqIO, SearchIO\n",
    "import pandas as pd\n",
    "import seaborn as sns\n",
    "import matplotlib.pyplot as plt\n",
    "import numpy as np\n",
    "from sklearn.model_selection import StratifiedKFold, train_test_split\n",
    "from sklearn.linear_model import LogisticRegression\n",
    "from sklearn.metrics import confusion_matrix, matthews_corrcoef, plot_confusion_matrix\n",
    "from scipy.special import expit"
   ]
  },
  {
   "cell_type": "code",
   "execution_count": 2,
   "metadata": {},
   "outputs": [],
   "source": [
    "def get_domain(path_positives = 'kunitz_noseed.fasta',\n",
    "               path_negatives = 'notkunitz.fasta',\n",
    "               type = 'fasta'):\n",
    "    domain = {}\n",
    "    for record in SeqIO.parse(path_positives, type):\n",
    "        record_id = record.id.split('|')[1]\n",
    "        domain[record_id] = 1\n",
    "    for record in SeqIO.parse(path_negatives, type):\n",
    "        record_id = record.id.split('|')[1]\n",
    "        domain[record_id] = 0\n",
    "    return domain\n",
    "domain = get_domain()"
   ]
  },
  {
   "cell_type": "code",
   "execution_count": 3,
   "metadata": {},
   "outputs": [],
   "source": [
    "def get_evalue_hit(path = 'results_full.out',\n",
    "                   type = 'hmmer3-tab'):\n",
    "    results = SearchIO.read(path, type)\n",
    "    evalue_hit = {}\n",
    "    for hit in results:\n",
    "        hit.id = hit.id.split('|')[1]\n",
    "        evalue_hit[hit.id] = hit.evalue\n",
    "    return evalue_hit\n",
    "evalue_hit = get_evalue_hit()"
   ]
  },
  {
   "cell_type": "code",
   "execution_count": 4,
   "metadata": {},
   "outputs": [],
   "source": [
    "def get_evalue_domain(path = 'results_full.out',\n",
    "                      type = 'hmmer3-tab'):\n",
    "    results = SearchIO.read(path, type)\n",
    "    evalue_domain = {}\n",
    "    for hit in results: \n",
    "        hit.id = hit.id.split('|')[1]\n",
    "        best_hsp = hit[0]\n",
    "        evalue_domain[hit.id]= best_hsp.evalue\n",
    "    return evalue_domain\n",
    "evalue_domain = get_evalue_domain()"
   ]
  },
  {
   "cell_type": "code",
   "execution_count": 5,
   "metadata": {},
   "outputs": [
    {
     "data": {
      "text/html": [
       "<div>\n",
       "<style scoped>\n",
       "    .dataframe tbody tr th:only-of-type {\n",
       "        vertical-align: middle;\n",
       "    }\n",
       "\n",
       "    .dataframe tbody tr th {\n",
       "        vertical-align: top;\n",
       "    }\n",
       "\n",
       "    .dataframe thead th {\n",
       "        text-align: right;\n",
       "    }\n",
       "</style>\n",
       "<table border=\"1\" class=\"dataframe\">\n",
       "  <thead>\n",
       "    <tr style=\"text-align: right;\">\n",
       "      <th></th>\n",
       "      <th>Evalue hit</th>\n",
       "      <th>Evalue best domain</th>\n",
       "      <th>Kunitz</th>\n",
       "    </tr>\n",
       "  </thead>\n",
       "  <tbody>\n",
       "    <tr>\n",
       "      <th>Q868Z9</th>\n",
       "      <td>2.500000e-183</td>\n",
       "      <td>3.400000e-16</td>\n",
       "      <td>1</td>\n",
       "    </tr>\n",
       "    <tr>\n",
       "      <th>O76840</th>\n",
       "      <td>6.400000e-169</td>\n",
       "      <td>1.000000e-16</td>\n",
       "      <td>1</td>\n",
       "    </tr>\n",
       "    <tr>\n",
       "      <th>P84875</th>\n",
       "      <td>5.300000e-61</td>\n",
       "      <td>1.300000e-19</td>\n",
       "      <td>1</td>\n",
       "    </tr>\n",
       "    <tr>\n",
       "      <th>Q02445</th>\n",
       "      <td>4.700000e-60</td>\n",
       "      <td>8.500000e-21</td>\n",
       "      <td>1</td>\n",
       "    </tr>\n",
       "    <tr>\n",
       "      <th>O54819</th>\n",
       "      <td>1.900000e-58</td>\n",
       "      <td>1.000000e-20</td>\n",
       "      <td>1</td>\n",
       "    </tr>\n",
       "    <tr>\n",
       "      <th>...</th>\n",
       "      <td>...</td>\n",
       "      <td>...</td>\n",
       "      <td>...</td>\n",
       "    </tr>\n",
       "    <tr>\n",
       "      <th>Q9Z913</th>\n",
       "      <td>1.000000e+01</td>\n",
       "      <td>1.000000e+01</td>\n",
       "      <td>0</td>\n",
       "    </tr>\n",
       "    <tr>\n",
       "      <th>O60814</th>\n",
       "      <td>1.000000e+01</td>\n",
       "      <td>1.000000e+01</td>\n",
       "      <td>0</td>\n",
       "    </tr>\n",
       "    <tr>\n",
       "      <th>Q79T00</th>\n",
       "      <td>1.000000e+01</td>\n",
       "      <td>1.000000e+01</td>\n",
       "      <td>0</td>\n",
       "    </tr>\n",
       "    <tr>\n",
       "      <th>O74098</th>\n",
       "      <td>1.000000e+01</td>\n",
       "      <td>1.000000e+01</td>\n",
       "      <td>0</td>\n",
       "    </tr>\n",
       "    <tr>\n",
       "      <th>B1WY30</th>\n",
       "      <td>1.000000e+01</td>\n",
       "      <td>1.000000e+01</td>\n",
       "      <td>0</td>\n",
       "    </tr>\n",
       "  </tbody>\n",
       "</table>\n",
       "<p>562236 rows × 3 columns</p>\n",
       "</div>"
      ],
      "text/plain": [
       "           Evalue hit  Evalue best domain  Kunitz\n",
       "Q868Z9  2.500000e-183        3.400000e-16       1\n",
       "O76840  6.400000e-169        1.000000e-16       1\n",
       "P84875   5.300000e-61        1.300000e-19       1\n",
       "Q02445   4.700000e-60        8.500000e-21       1\n",
       "O54819   1.900000e-58        1.000000e-20       1\n",
       "...               ...                 ...     ...\n",
       "Q9Z913   1.000000e+01        1.000000e+01       0\n",
       "O60814   1.000000e+01        1.000000e+01       0\n",
       "Q79T00   1.000000e+01        1.000000e+01       0\n",
       "O74098   1.000000e+01        1.000000e+01       0\n",
       "B1WY30   1.000000e+01        1.000000e+01       0\n",
       "\n",
       "[562236 rows x 3 columns]"
      ]
     },
     "execution_count": 5,
     "metadata": {},
     "output_type": "execute_result"
    }
   ],
   "source": [
    "def build_dataset(evalue_hit, evalue_domain, domain):\n",
    "    dataset = pd.DataFrame({'Evalue hit': evalue_hit,\n",
    "                            'Evalue best domain': evalue_domain,\n",
    "                            'Kunitz': domain})\n",
    "    dataset['Evalue hit'].fillna(10, inplace = True)\n",
    "    dataset['Evalue best domain'].fillna(10, inplace = True)\n",
    "    return dataset\n",
    "dataset = build_dataset(evalue_hit, evalue_domain, domain)\n",
    "dataset"
   ]
  },
  {
   "cell_type": "code",
   "execution_count": 22,
   "metadata": {},
   "outputs": [
    {
     "name": "stdout",
     "output_type": "stream",
     "text": [
      "               evalue          hit\n",
      "Q868Z9  2.500000e-183       Global\n",
      "O76840  6.400000e-169       Global\n",
      "P84875   5.300000e-61       Global\n",
      "Q02445   4.700000e-60       Global\n",
      "O54819   1.900000e-58       Global\n",
      "...               ...          ...\n",
      "Q9Z913   1.000000e+01  Best domain\n",
      "O60814   1.000000e+01  Best domain\n",
      "Q79T00   1.000000e+01  Best domain\n",
      "O74098   1.000000e+01  Best domain\n",
      "B1WY30   1.000000e+01  Best domain\n",
      "\n",
      "[1124472 rows x 2 columns]\n"
     ]
    },
    {
     "data": {
      "text/plain": [
       "<matplotlib.axes._subplots.AxesSubplot at 0x7f80a19671d0>"
      ]
     },
     "execution_count": 22,
     "metadata": {},
     "output_type": "execute_result"
    },
    {
     "data": {
      "image/png": "[encoded data removed]",
      "text/plain": [
       "<Figure size 432x288 with 1 Axes>"
      ]
     },
     "metadata": {
      "needs_background": "light"
     },
     "output_type": "display_data"
    }
   ],
   "source": [
    "def plot_dataset(dataset):\n",
    "    evalue_hit = pd.DataFrame({'evalue': dataset['Evalue hit']})\n",
    "    evalue_hit['hit'] = 'Global'\n",
    "    evalue_domain = pd.DataFrame({'evalue': dataset['Evalue best domain']})\n",
    "    evalue_domain['hit'] = 'Best domain'\n",
    "    final = [evalue_hit, evalue_domain]\n",
    "    final = pd.concat(final)\n",
    "    print(final)\n",
    "    plot = sns.stripplot(y =final.evalue, x=dataset.Kunitz, hue = final.hit, dodge=True, data=dataset)\n",
    "    plot.set(yscale='log', ylim=(10e-30,10))\n",
    "    legend = plot.get_legend()\n",
    "    legend.set_title('E-value')\n",
    "    plt.savefig(\"whole_plot.png\")\n",
    "    return plot\n",
    "plot_dataset(dataset)"
   ]
  },
  {
   "cell_type": "code",
   "execution_count": 7,
   "metadata": {},
   "outputs": [],
   "source": [
    "X_train, X_test, y_train, y_test = train_test_split(dataset['Evalue best domain'], \n",
    "                                                    dataset['Kunitz'], \n",
    "                                                    test_size=0.5, \n",
    "                                                    random_state=42)"
   ]
  },
  {
   "cell_type": "code",
   "execution_count": 8,
   "metadata": {},
   "outputs": [],
   "source": [
    "def train_model(X, y):\n",
    "    y_true = y\n",
    "    mcc_list = []\n",
    "    for i in np.arange(-10, 1, 0.5):\n",
    "        y_pred = X.apply(lambda x: 1 if x <10**(i) else 0)\n",
    "        mcc_i = matthews_corrcoef(y_true, y_pred)\n",
    "        mcc_list.append((i, mcc_i))\n",
    "        print('E-value = 10e', i, ' MCC: ', mcc_i, sep = '')\n",
    "        y_pred = y_pred.iloc[0:0]\n",
    "    best_evalue_list = []\n",
    "    best_mcc = mcc_list[0][1]\n",
    "    for record in mcc_list:\n",
    "        mcc = record[1]\n",
    "        if mcc > best_mcc:\n",
    "            best_evalue_list.clear()\n",
    "            best_evalue_list.append(record[0])\n",
    "            best_mcc = mcc\n",
    "        elif mcc == best_mcc:\n",
    "            best_evalue_list.append(record[0])\n",
    "    best_evalue = np.mean(best_evalue_list) \n",
    "    print('Best E-value is:', 10**best_evalue)\n",
    "    return 10**best_evalue\n"
   ]
  },
  {
   "cell_type": "code",
   "execution_count": 9,
   "metadata": {
    "pycharm": {
     "is_executing": true
    }
   },
   "outputs": [
    {
     "name": "stdout",
     "output_type": "stream",
     "text": [
      "E-value = 10e-10.0 MCC: 0.9726842049740586\n",
      "E-value = 10e-9.5 MCC: 0.9726842049740586\n",
      "E-value = 10e-9.0 MCC: 0.9726842049740586\n",
      "E-value = 10e-8.5 MCC: 0.9726842049740586\n",
      "E-value = 10e-8.0 MCC: 0.9757589832666786\n",
      "E-value = 10e-7.5 MCC: 0.978824126064465\n",
      "E-value = 10e-7.0 MCC: 0.9849258646212729\n",
      "E-value = 10e-6.5 MCC: 0.9879626366380753\n",
      "E-value = 10e-6.0 MCC: 0.9879626366380753\n",
      "E-value = 10e-5.5 MCC: 0.9879626366380753\n",
      "E-value = 10e-5.0 MCC: 0.99099012573506\n",
      "E-value = 10e-4.5 MCC: 0.99099012573506\n",
      "E-value = 10e-4.0 MCC: 0.99099012573506\n",
      "E-value = 10e-3.5 MCC: 0.99099012573506\n",
      "E-value = 10e-3.0 MCC: 0.99099012573506\n",
      "E-value = 10e-2.5 MCC: 0.99099012573506\n",
      "E-value = 10e-2.0 MCC: 0.99099012573506\n",
      "E-value = 10e-1.5 MCC: 0.9880168334167505\n",
      "E-value = 10e-1.0 MCC: 0.9880168334167505\n",
      "E-value = 10e-0.5 MCC: 0.9880168334167505\n",
      "E-value = 10e0.0 MCC: 0.9851933914667453\n",
      "E-value = 10e0.5 MCC: 0.9824954471700009\n",
      "Best E-value is: 0.00031622776601683794\n"
     ]
    }
   ],
   "source": [
    "threshold = train_model(X_train, y_train)"
   ]
  },
  {
   "cell_type": "code",
   "execution_count": 10,
   "metadata": {
    "pycharm": {
     "is_executing": true
    }
   },
   "outputs": [
    {
     "ename": "KeyError",
     "evalue": "'Evalue hit'",
     "output_type": "error",
     "traceback": [
      "\u001B[0;31m---------------------------------------------------------------------------\u001B[0m",
      "\u001B[0;31mTypeError\u001B[0m                                 Traceback (most recent call last)",
      "\u001B[0;32m~/miniconda3/envs/lab/lib/python3.6/site-packages/pandas/core/indexes/base.py\u001B[0m in \u001B[0;36mget_value\u001B[0;34m(self, series, key)\u001B[0m\n\u001B[1;32m   4409\u001B[0m             \u001B[0;32mtry\u001B[0m\u001B[0;34m:\u001B[0m\u001B[0;34m\u001B[0m\u001B[0;34m\u001B[0m\u001B[0m\n\u001B[0;32m-> 4410\u001B[0;31m                 \u001B[0;32mreturn\u001B[0m \u001B[0mlibindex\u001B[0m\u001B[0;34m.\u001B[0m\u001B[0mget_value_at\u001B[0m\u001B[0;34m(\u001B[0m\u001B[0ms\u001B[0m\u001B[0;34m,\u001B[0m \u001B[0mkey\u001B[0m\u001B[0;34m)\u001B[0m\u001B[0;34m\u001B[0m\u001B[0;34m\u001B[0m\u001B[0m\n\u001B[0m\u001B[1;32m   4411\u001B[0m             \u001B[0;32mexcept\u001B[0m \u001B[0mIndexError\u001B[0m\u001B[0;34m:\u001B[0m\u001B[0;34m\u001B[0m\u001B[0;34m\u001B[0m\u001B[0m\n",
      "\u001B[0;32mpandas/_libs/index.pyx\u001B[0m in \u001B[0;36mpandas._libs.index.get_value_at\u001B[0;34m()\u001B[0m\n",
      "\u001B[0;32mpandas/_libs/index.pyx\u001B[0m in \u001B[0;36mpandas._libs.index.get_value_at\u001B[0;34m()\u001B[0m\n",
      "\u001B[0;32mpandas/_libs/util.pxd\u001B[0m in \u001B[0;36mpandas._libs.util.get_value_at\u001B[0;34m()\u001B[0m\n",
      "\u001B[0;32mpandas/_libs/util.pxd\u001B[0m in \u001B[0;36mpandas._libs.util.validate_indexer\u001B[0;34m()\u001B[0m\n",
      "\u001B[0;31mTypeError\u001B[0m: 'str' object cannot be interpreted as an integer",
      "\nDuring handling of the above exception, another exception occurred:\n",
      "\u001B[0;31mKeyError\u001B[0m                                  Traceback (most recent call last)",
      "\u001B[0;32m<ipython-input-10-142b424439ab>\u001B[0m in \u001B[0;36m<module>\u001B[0;34m\u001B[0m\n\u001B[0;32m----> 1\u001B[0;31m \u001B[0mplot\u001B[0m \u001B[0;34m=\u001B[0m \u001B[0mplot_dataset\u001B[0m\u001B[0;34m(\u001B[0m\u001B[0mpd\u001B[0m\u001B[0;34m.\u001B[0m\u001B[0mconcat\u001B[0m\u001B[0;34m(\u001B[0m\u001B[0;34m[\u001B[0m\u001B[0mX_train\u001B[0m\u001B[0;34m,\u001B[0m \u001B[0my_train\u001B[0m\u001B[0;34m]\u001B[0m\u001B[0;34m)\u001B[0m\u001B[0;34m)\u001B[0m\u001B[0;34m\u001B[0m\u001B[0;34m\u001B[0m\u001B[0m\n\u001B[0m",
      "\u001B[0;32m<ipython-input-6-27c4c68d9ae6>\u001B[0m in \u001B[0;36mplot_dataset\u001B[0;34m(dataset)\u001B[0m\n\u001B[1;32m      1\u001B[0m \u001B[0;32mdef\u001B[0m \u001B[0mplot_dataset\u001B[0m\u001B[0;34m(\u001B[0m\u001B[0mdataset\u001B[0m\u001B[0;34m)\u001B[0m\u001B[0;34m:\u001B[0m\u001B[0;34m\u001B[0m\u001B[0;34m\u001B[0m\u001B[0m\n\u001B[0;32m----> 2\u001B[0;31m     \u001B[0mevalue_hit\u001B[0m \u001B[0;34m=\u001B[0m \u001B[0mpd\u001B[0m\u001B[0;34m.\u001B[0m\u001B[0mDataFrame\u001B[0m\u001B[0;34m(\u001B[0m\u001B[0;34m{\u001B[0m\u001B[0;34m'evalue'\u001B[0m\u001B[0;34m:\u001B[0m \u001B[0mdataset\u001B[0m\u001B[0;34m[\u001B[0m\u001B[0;34m'Evalue hit'\u001B[0m\u001B[0;34m]\u001B[0m\u001B[0;34m}\u001B[0m\u001B[0;34m)\u001B[0m\u001B[0;34m\u001B[0m\u001B[0;34m\u001B[0m\u001B[0m\n\u001B[0m\u001B[1;32m      3\u001B[0m     \u001B[0mevalue_hit\u001B[0m\u001B[0;34m[\u001B[0m\u001B[0;34m'hit'\u001B[0m\u001B[0;34m]\u001B[0m \u001B[0;34m=\u001B[0m \u001B[0;34m'Global'\u001B[0m\u001B[0;34m\u001B[0m\u001B[0;34m\u001B[0m\u001B[0m\n\u001B[1;32m      4\u001B[0m     \u001B[0mevalue_domain\u001B[0m \u001B[0;34m=\u001B[0m \u001B[0mpd\u001B[0m\u001B[0;34m.\u001B[0m\u001B[0mDataFrame\u001B[0m\u001B[0;34m(\u001B[0m\u001B[0;34m{\u001B[0m\u001B[0;34m'evalue'\u001B[0m\u001B[0;34m:\u001B[0m \u001B[0mdataset\u001B[0m\u001B[0;34m[\u001B[0m\u001B[0;34m'Evalue best domain'\u001B[0m\u001B[0;34m]\u001B[0m\u001B[0;34m}\u001B[0m\u001B[0;34m)\u001B[0m\u001B[0;34m\u001B[0m\u001B[0;34m\u001B[0m\u001B[0m\n\u001B[1;32m      5\u001B[0m     \u001B[0mevalue_domain\u001B[0m\u001B[0;34m[\u001B[0m\u001B[0;34m'hit'\u001B[0m\u001B[0;34m]\u001B[0m \u001B[0;34m=\u001B[0m \u001B[0;34m'Best domain'\u001B[0m\u001B[0;34m\u001B[0m\u001B[0;34m\u001B[0m\u001B[0m\n",
      "\u001B[0;32m~/miniconda3/envs/lab/lib/python3.6/site-packages/pandas/core/series.py\u001B[0m in \u001B[0;36m__getitem__\u001B[0;34m(self, key)\u001B[0m\n\u001B[1;32m    869\u001B[0m         \u001B[0mkey\u001B[0m \u001B[0;34m=\u001B[0m \u001B[0mcom\u001B[0m\u001B[0;34m.\u001B[0m\u001B[0mapply_if_callable\u001B[0m\u001B[0;34m(\u001B[0m\u001B[0mkey\u001B[0m\u001B[0;34m,\u001B[0m \u001B[0mself\u001B[0m\u001B[0;34m)\u001B[0m\u001B[0;34m\u001B[0m\u001B[0;34m\u001B[0m\u001B[0m\n\u001B[1;32m    870\u001B[0m         \u001B[0;32mtry\u001B[0m\u001B[0;34m:\u001B[0m\u001B[0;34m\u001B[0m\u001B[0;34m\u001B[0m\u001B[0m\n\u001B[0;32m--> 871\u001B[0;31m             \u001B[0mresult\u001B[0m \u001B[0;34m=\u001B[0m \u001B[0mself\u001B[0m\u001B[0;34m.\u001B[0m\u001B[0mindex\u001B[0m\u001B[0;34m.\u001B[0m\u001B[0mget_value\u001B[0m\u001B[0;34m(\u001B[0m\u001B[0mself\u001B[0m\u001B[0;34m,\u001B[0m \u001B[0mkey\u001B[0m\u001B[0;34m)\u001B[0m\u001B[0;34m\u001B[0m\u001B[0;34m\u001B[0m\u001B[0m\n\u001B[0m\u001B[1;32m    872\u001B[0m \u001B[0;34m\u001B[0m\u001B[0m\n\u001B[1;32m    873\u001B[0m             \u001B[0;32mif\u001B[0m \u001B[0;32mnot\u001B[0m \u001B[0mis_scalar\u001B[0m\u001B[0;34m(\u001B[0m\u001B[0mresult\u001B[0m\u001B[0;34m)\u001B[0m\u001B[0;34m:\u001B[0m\u001B[0;34m\u001B[0m\u001B[0;34m\u001B[0m\u001B[0m\n",
      "\u001B[0;32m~/miniconda3/envs/lab/lib/python3.6/site-packages/pandas/core/indexes/base.py\u001B[0m in \u001B[0;36mget_value\u001B[0;34m(self, series, key)\u001B[0m\n\u001B[1;32m   4416\u001B[0m                     \u001B[0;32mraise\u001B[0m \u001B[0mInvalidIndexError\u001B[0m\u001B[0;34m(\u001B[0m\u001B[0mkey\u001B[0m\u001B[0;34m)\u001B[0m\u001B[0;34m\u001B[0m\u001B[0;34m\u001B[0m\u001B[0m\n\u001B[1;32m   4417\u001B[0m                 \u001B[0;32melse\u001B[0m\u001B[0;34m:\u001B[0m\u001B[0;34m\u001B[0m\u001B[0;34m\u001B[0m\u001B[0m\n\u001B[0;32m-> 4418\u001B[0;31m                     \u001B[0;32mraise\u001B[0m \u001B[0me1\u001B[0m\u001B[0;34m\u001B[0m\u001B[0;34m\u001B[0m\u001B[0m\n\u001B[0m\u001B[1;32m   4419\u001B[0m             \u001B[0;32mexcept\u001B[0m \u001B[0mException\u001B[0m\u001B[0;34m:\u001B[0m\u001B[0;34m\u001B[0m\u001B[0;34m\u001B[0m\u001B[0m\n\u001B[1;32m   4420\u001B[0m                 \u001B[0;32mraise\u001B[0m \u001B[0me1\u001B[0m\u001B[0;34m\u001B[0m\u001B[0;34m\u001B[0m\u001B[0m\n",
      "\u001B[0;32m~/miniconda3/envs/lab/lib/python3.6/site-packages/pandas/core/indexes/base.py\u001B[0m in \u001B[0;36mget_value\u001B[0;34m(self, series, key)\u001B[0m\n\u001B[1;32m   4402\u001B[0m         \u001B[0mk\u001B[0m \u001B[0;34m=\u001B[0m \u001B[0mself\u001B[0m\u001B[0;34m.\u001B[0m\u001B[0m_convert_scalar_indexer\u001B[0m\u001B[0;34m(\u001B[0m\u001B[0mk\u001B[0m\u001B[0;34m,\u001B[0m \u001B[0mkind\u001B[0m\u001B[0;34m=\u001B[0m\u001B[0;34m\"getitem\"\u001B[0m\u001B[0;34m)\u001B[0m\u001B[0;34m\u001B[0m\u001B[0;34m\u001B[0m\u001B[0m\n\u001B[1;32m   4403\u001B[0m         \u001B[0;32mtry\u001B[0m\u001B[0;34m:\u001B[0m\u001B[0;34m\u001B[0m\u001B[0;34m\u001B[0m\u001B[0m\n\u001B[0;32m-> 4404\u001B[0;31m             \u001B[0;32mreturn\u001B[0m \u001B[0mself\u001B[0m\u001B[0;34m.\u001B[0m\u001B[0m_engine\u001B[0m\u001B[0;34m.\u001B[0m\u001B[0mget_value\u001B[0m\u001B[0;34m(\u001B[0m\u001B[0ms\u001B[0m\u001B[0;34m,\u001B[0m \u001B[0mk\u001B[0m\u001B[0;34m,\u001B[0m \u001B[0mtz\u001B[0m\u001B[0;34m=\u001B[0m\u001B[0mgetattr\u001B[0m\u001B[0;34m(\u001B[0m\u001B[0mseries\u001B[0m\u001B[0;34m.\u001B[0m\u001B[0mdtype\u001B[0m\u001B[0;34m,\u001B[0m \u001B[0;34m\"tz\"\u001B[0m\u001B[0;34m,\u001B[0m \u001B[0;32mNone\u001B[0m\u001B[0;34m)\u001B[0m\u001B[0;34m)\u001B[0m\u001B[0;34m\u001B[0m\u001B[0;34m\u001B[0m\u001B[0m\n\u001B[0m\u001B[1;32m   4405\u001B[0m         \u001B[0;32mexcept\u001B[0m \u001B[0mKeyError\u001B[0m \u001B[0;32mas\u001B[0m \u001B[0me1\u001B[0m\u001B[0;34m:\u001B[0m\u001B[0;34m\u001B[0m\u001B[0;34m\u001B[0m\u001B[0m\n\u001B[1;32m   4406\u001B[0m             \u001B[0;32mif\u001B[0m \u001B[0mlen\u001B[0m\u001B[0;34m(\u001B[0m\u001B[0mself\u001B[0m\u001B[0;34m)\u001B[0m \u001B[0;34m>\u001B[0m \u001B[0;36m0\u001B[0m \u001B[0;32mand\u001B[0m \u001B[0;34m(\u001B[0m\u001B[0mself\u001B[0m\u001B[0;34m.\u001B[0m\u001B[0mholds_integer\u001B[0m\u001B[0;34m(\u001B[0m\u001B[0;34m)\u001B[0m \u001B[0;32mor\u001B[0m \u001B[0mself\u001B[0m\u001B[0;34m.\u001B[0m\u001B[0mis_boolean\u001B[0m\u001B[0;34m(\u001B[0m\u001B[0;34m)\u001B[0m\u001B[0;34m)\u001B[0m\u001B[0;34m:\u001B[0m\u001B[0;34m\u001B[0m\u001B[0;34m\u001B[0m\u001B[0m\n",
      "\u001B[0;32mpandas/_libs/index.pyx\u001B[0m in \u001B[0;36mpandas._libs.index.IndexEngine.get_value\u001B[0;34m()\u001B[0m\n",
      "\u001B[0;32mpandas/_libs/index.pyx\u001B[0m in \u001B[0;36mpandas._libs.index.IndexEngine.get_value\u001B[0;34m()\u001B[0m\n",
      "\u001B[0;32mpandas/_libs/index.pyx\u001B[0m in \u001B[0;36mpandas._libs.index.IndexEngine.get_loc\u001B[0;34m()\u001B[0m\n",
      "\u001B[0;32mpandas/_libs/index.pyx\u001B[0m in \u001B[0;36mpandas._libs.index.IndexEngine._get_loc_duplicates\u001B[0;34m()\u001B[0m\n",
      "\u001B[0;32mpandas/_libs/index.pyx\u001B[0m in \u001B[0;36mpandas._libs.index.IndexEngine._maybe_get_bool_indexer\u001B[0;34m()\u001B[0m\n",
      "\u001B[0;31mKeyError\u001B[0m: 'Evalue hit'"
     ]
    }
   ],
   "source": [
    "plot = plot_dataset(pd.concat([X_train, y_train]))"
   ]
  },
  {
   "cell_type": "code",
   "execution_count": 11,
   "metadata": {},
   "outputs": [],
   "source": [
    "def test_model(X, y, threshold):\n",
    "    y_true = y\n",
    "    y_pred = pd.Series([], dtype = 'category')\n",
    "    y_pred = X.apply(lambda x: 1 if x < threshold else 0)\n",
    "    mismatches = y_pred[y_pred != y_true] \n",
    "    false_negatives = list(mismatches[mismatches==0].index)\n",
    "    false_positives = list(mismatches[mismatches==1].index)\n",
    "    print('False negatives are:', false_negatives)\n",
    "    print('False positives are:', false_positives)\n",
    "    graph = sns.stripplot(y = X, x = y)\n",
    "    graph.set(yscale='log', ylim=(10e-25,10))\n",
    "    graph.axhline(threshold)\n",
    "    return confusion_matrix(y_true, y_pred)\n"
   ]
  },
  {
   "cell_type": "code",
   "execution_count": 12,
   "metadata": {
    "pycharm": {
     "is_executing": true
    }
   },
   "outputs": [
    {
     "name": "stdout",
     "output_type": "stream",
     "text": [
      "False negatives are: ['Q11101']\n",
      "False positives are: []\n"
     ]
    },
    {
     "data": {
      "text/plain": [
       "array([[280943,      0],\n",
       "       [     1,    174]])"
      ]
     },
     "execution_count": 12,
     "metadata": {},
     "output_type": "execute_result"
    },
    {
     "data": {
      "image/png": "[encoded data removed]",
      "text/plain": [
       "<Figure size 432x288 with 1 Axes>"
      ]
     },
     "metadata": {
      "needs_background": "light"
     },
     "output_type": "display_data"
    }
   ],
   "source": [
    "test_model(X_test, y_test, threshold)"
   ]
  },
  {
   "cell_type": "code",
   "execution_count": 13,
   "metadata": {
    "pycharm": {
     "name": "#%%\n"
    }
   },
   "outputs": [
    {
     "name": "stdout",
     "output_type": "stream",
     "text": [
      "<generator object _BaseKFold.split at 0x7f80a809a780>\n",
      "TRAIN: [     0      1      2 ... 562233 562234 562235] TEST: [     3      9     19 ... 562213 562214 562217]\n",
      "E-value = 10e-10.0 MCC: 0.9815101673760518\n",
      "E-value = 10e-9.5 MCC: 0.9833754350903126\n",
      "E-value = 10e-9.0 MCC: 0.9833754350903126\n",
      "E-value = 10e-8.5 MCC: 0.9833754350903126\n",
      "E-value = 10e-8.0 MCC: 0.9852371799275994\n",
      "E-value = 10e-7.5 MCC: 0.9852371799275994\n",
      "E-value = 10e-7.0 MCC: 0.9889501805088052\n",
      "E-value = 10e-6.5 MCC: 0.9908014755561132\n",
      "E-value = 10e-6.0 MCC: 0.9908014755561132\n",
      "E-value = 10e-5.5 MCC: 0.9908014755561132\n",
      "E-value = 10e-5.0 MCC: 0.9926493263380858\n",
      "E-value = 10e-4.5 MCC: 0.9926493263380858\n",
      "E-value = 10e-4.0 MCC: 0.9944937520518929\n",
      "E-value = 10e-3.5 MCC: 0.9944937520518929\n",
      "E-value = 10e-3.0 MCC: 0.9944937520518929\n",
      "E-value = 10e-2.5 MCC: 0.9944937520518929\n",
      "E-value = 10e-2.0 MCC: 0.9926695434342565\n",
      "E-value = 10e-1.5 MCC: 0.9908553284464356\n",
      "E-value = 10e-1.0 MCC: 0.9908553284464356\n",
      "E-value = 10e-0.5 MCC: 0.9890510161581264\n",
      "E-value = 10e0.0 MCC: 0.9891104262078195\n",
      "E-value = 10e0.5 MCC: 0.9856535693773769\n",
      "Best E-value is: 0.0005623413251903491\n",
      "False negatives are: []\n",
      "False positives are: []\n",
      "[[112379      0]\n",
      " [     0     69]]\n",
      "TRAIN: [     0      3      5 ... 562232 562234 562235] TEST: [     1      2      4 ... 562225 562228 562233]\n",
      "E-value = 10e-10.0 MCC: 0.9870954218362921\n",
      "E-value = 10e-9.5 MCC: 0.9889501805235792\n",
      "E-value = 10e-9.0 MCC: 0.9889501805235792\n",
      "E-value = 10e-8.5 MCC: 0.9889501805235792\n",
      "E-value = 10e-8.0 MCC: 0.9908014755684447\n",
      "E-value = 10e-7.5 MCC: 0.9908014755684447\n",
      "E-value = 10e-7.0 MCC: 0.9926493263479654\n",
      "E-value = 10e-6.5 MCC: 0.9963347717220772\n",
      "E-value = 10e-6.0 MCC: 0.9963347717220772\n",
      "E-value = 10e-5.5 MCC: 0.9963347717220772\n",
      "E-value = 10e-5.0 MCC: 0.9963347717220772\n",
      "E-value = 10e-4.5 MCC: 0.9963347717220772\n",
      "E-value = 10e-4.0 MCC: 0.9963347717220772\n",
      "E-value = 10e-3.5 MCC: 0.9963347717220772\n",
      "E-value = 10e-3.0 MCC: 0.9963347717220772\n",
      "E-value = 10e-2.5 MCC: 0.9963347717220772\n",
      "E-value = 10e-2.0 MCC: 0.9945138663196862\n",
      "E-value = 10e-1.5 MCC: 0.9927029001506572\n",
      "E-value = 10e-1.0 MCC: 0.9927029001506572\n",
      "E-value = 10e-0.5 MCC: 0.9909017831075795\n",
      "E-value = 10e0.0 MCC: 0.990960879888763\n",
      "E-value = 10e0.5 MCC: 0.9891822698640961\n",
      "Best E-value is: 3.1622776601683795e-05\n",
      "False negatives are: ['Q11101', 'D3GGZ8']\n",
      "False positives are: []\n",
      "[[112378      0]\n",
      " [     2     67]]\n",
      "TRAIN: [     0      1      2 ... 562233 562234 562235] TEST: [     6      7     15 ... 562224 562226 562231]\n",
      "E-value = 10e-10.0 MCC: 0.9815782140330482\n",
      "E-value = 10e-9.5 MCC: 0.9834365563662888\n",
      "E-value = 10e-9.0 MCC: 0.9834365563662888\n",
      "E-value = 10e-8.5 MCC: 0.9834365563662888\n",
      "E-value = 10e-8.0 MCC: 0.9852914021556011\n",
      "E-value = 10e-7.5 MCC: 0.9852914021556011\n",
      "E-value = 10e-7.0 MCC: 0.9889906827499082\n",
      "E-value = 10e-6.5 MCC: 0.9908351564201737\n",
      "E-value = 10e-6.0 MCC: 0.9908351564201737\n",
      "E-value = 10e-5.5 MCC: 0.9908351564201737\n",
      "E-value = 10e-5.0 MCC: 0.9926762112818217\n",
      "E-value = 10e-4.5 MCC: 0.9926762112818217\n",
      "E-value = 10e-4.0 MCC: 0.9945138663196862\n",
      "E-value = 10e-3.5 MCC: 0.9945138663196862\n",
      "E-value = 10e-3.0 MCC: 0.9945138663196862\n",
      "E-value = 10e-2.5 MCC: 0.9945138663196862\n",
      "E-value = 10e-2.0 MCC: 0.9945138663196862\n",
      "E-value = 10e-1.5 MCC: 0.9926962806872711\n",
      "E-value = 10e-1.0 MCC: 0.9926962806872711\n",
      "E-value = 10e-0.5 MCC: 0.9908886161527862\n",
      "E-value = 10e0.0 MCC: 0.9891497636006601\n",
      "E-value = 10e0.5 MCC: 0.9857047801411344\n",
      "Best E-value is: 0.001\n",
      "False negatives are: []\n",
      "False positives are: []\n",
      "[[112379      0]\n",
      " [     0     68]]\n",
      "TRAIN: [     1      2      3 ... 562231 562233 562234] TEST: [     0     11     13 ... 562230 562232 562235]\n",
      "E-value = 10e-10.0 MCC: 0.9834365563662888\n",
      "E-value = 10e-9.5 MCC: 0.9852914021556011\n",
      "E-value = 10e-9.0 MCC: 0.9852914021556011\n",
      "E-value = 10e-8.5 MCC: 0.9852914021556011\n",
      "E-value = 10e-8.0 MCC: 0.9852914021556011\n",
      "E-value = 10e-7.5 MCC: 0.9852914021556011\n",
      "E-value = 10e-7.0 MCC: 0.9889906827499082\n",
      "E-value = 10e-6.5 MCC: 0.9926762112818217\n",
      "E-value = 10e-6.0 MCC: 0.9926762112818217\n",
      "E-value = 10e-5.5 MCC: 0.9926762112818217\n",
      "E-value = 10e-5.0 MCC: 0.9945138663196862\n",
      "E-value = 10e-4.5 MCC: 0.9945138663196862\n",
      "E-value = 10e-4.0 MCC: 0.9963481403436356\n",
      "E-value = 10e-3.5 MCC: 0.9963481403436356\n",
      "E-value = 10e-3.0 MCC: 0.9963481403436356\n",
      "E-value = 10e-2.5 MCC: 0.9963481403436356\n",
      "E-value = 10e-2.0 MCC: 0.9945338340718038\n",
      "E-value = 10e-1.5 MCC: 0.9945338340718038\n",
      "E-value = 10e-1.0 MCC: 0.9945338340718038\n",
      "E-value = 10e-0.5 MCC: 0.9945338340718038\n",
      "E-value = 10e0.0 MCC: 0.9909347342706861\n",
      "E-value = 10e0.5 MCC: 0.9892210909977479\n",
      "Best E-value is: 0.0005623413251903491\n",
      "False negatives are: ['O62247']\n",
      "False positives are: []\n",
      "[[112379      0]\n",
      " [     1     67]]\n",
      "TRAIN: [     0      1      2 ... 562232 562233 562235] TEST: [     5      8     12 ... 562227 562229 562234]\n",
      "E-value = 10e-10.0 MCC: 0.9852845490901613\n",
      "E-value = 10e-9.5 MCC: 0.9852845490901613\n",
      "E-value = 10e-9.0 MCC: 0.9852845490901613\n",
      "E-value = 10e-8.5 MCC: 0.9852845490901613\n",
      "E-value = 10e-8.0 MCC: 0.9871359483248637\n",
      "E-value = 10e-7.5 MCC: 0.9871359483248637\n",
      "E-value = 10e-7.0 MCC: 0.9889838899203027\n",
      "E-value = 10e-6.5 MCC: 0.9926694773978791\n",
      "E-value = 10e-6.0 MCC: 0.9926694773978791\n",
      "E-value = 10e-5.5 MCC: 0.9926694773978791\n",
      "E-value = 10e-5.0 MCC: 0.9945071614354594\n",
      "E-value = 10e-4.5 MCC: 0.9945071614354594\n",
      "E-value = 10e-4.0 MCC: 0.9963414641492768\n",
      "E-value = 10e-3.5 MCC: 0.9963414641492768\n",
      "E-value = 10e-3.0 MCC: 0.9963414641492768\n",
      "E-value = 10e-2.5 MCC: 0.9963414641492768\n",
      "E-value = 10e-2.0 MCC: 0.9945138663196862\n",
      "E-value = 10e-1.5 MCC: 0.9926962806872711\n",
      "E-value = 10e-1.0 MCC: 0.9926962806872711\n",
      "E-value = 10e-0.5 MCC: 0.9908886161527862\n",
      "E-value = 10e0.0 MCC: 0.9891497636006601\n",
      "E-value = 10e0.5 MCC: 0.9857047801411344\n",
      "Best E-value is: 0.0005623413251903491\n",
      "False negatives are: []\n",
      "False positives are: ['G3LH89']\n",
      "[[112378      1]\n",
      " [     0     68]]\n"
     ]
    },
    {
     "data": {
      "image/png": "[encoded data removed]",
      "text/plain": [
       "<Figure size 432x288 with 1 Axes>"
      ]
     },
     "metadata": {
      "needs_background": "light"
     },
     "output_type": "display_data"
    }
   ],
   "source": [
    "   \n",
    "    X = dataset['Evalue hit']\n",
    "    y = dataset['Kunitz']\n",
    "    skf = StratifiedKFold(n_splits=5, shuffle=True, random_state=42)\n",
    "    n_splits = skf.get_n_splits\n",
    "    print(skf.split(X, y))\n",
    "    threshold_list = []\n",
    "    for train_index, test_index in skf.split(X, y):    \n",
    "        print(\"TRAIN:\", train_index, \"TEST:\", test_index)\n",
    "        X_train, X_test = X[train_index], X[test_index]\n",
    "        y_train, y_test = y[train_index], y[test_index]\n",
    "        threshold = train_model(X_train, y_train)\n",
    "        threshold_list.append(threshold)\n",
    "        print(test_model(X_test, y_test, threshold))\n",
    "        average = np.mean(threshold_list)\n",
    "      "
   ]
  },
  {
   "cell_type": "code",
   "execution_count": 14,
   "metadata": {
    "collapsed": false,
    "jupyter": {
     "outputs_hidden": false
    },
    "pycharm": {
     "is_executing": true,
     "name": "#%%\n"
    }
   },
   "outputs": [
    {
     "ename": "NameError",
     "evalue": "name 'data_frame' is not defined",
     "output_type": "error",
     "traceback": [
      "\u001B[0;31m---------------------------------------------------------------------------\u001B[0m",
      "\u001B[0;31mNameError\u001B[0m                                 Traceback (most recent call last)",
      "\u001B[0;32m<ipython-input-14-2465533c4369>\u001B[0m in \u001B[0;36m<module>\u001B[0;34m\u001B[0m\n\u001B[0;32m----> 1\u001B[0;31m \u001B[0mX_train\u001B[0m\u001B[0;34m,\u001B[0m \u001B[0mX_test\u001B[0m\u001B[0;34m,\u001B[0m \u001B[0my_train\u001B[0m\u001B[0;34m,\u001B[0m \u001B[0my_test\u001B[0m \u001B[0;34m=\u001B[0m \u001B[0mtrain_test_split\u001B[0m\u001B[0;34m(\u001B[0m\u001B[0mdata_frame\u001B[0m\u001B[0;34m[\u001B[0m\u001B[0;34m'Evalue hit'\u001B[0m\u001B[0;34m]\u001B[0m\u001B[0;34m,\u001B[0m \u001B[0mdata_frame\u001B[0m\u001B[0;34m[\u001B[0m\u001B[0;34m'Kunitz'\u001B[0m\u001B[0;34m]\u001B[0m\u001B[0;34m,\u001B[0m \u001B[0mtest_size\u001B[0m\u001B[0;34m=\u001B[0m\u001B[0;36m0.5\u001B[0m\u001B[0;34m)\u001B[0m\u001B[0;34m\u001B[0m\u001B[0;34m\u001B[0m\u001B[0m\n\u001B[0m\u001B[1;32m      2\u001B[0m \u001B[0mgraph\u001B[0m \u001B[0;34m=\u001B[0m \u001B[0msns\u001B[0m\u001B[0;34m.\u001B[0m\u001B[0mstripplot\u001B[0m\u001B[0;34m(\u001B[0m\u001B[0my\u001B[0m \u001B[0;34m=\u001B[0m \u001B[0mX_train\u001B[0m\u001B[0;34m,\u001B[0m \u001B[0mx\u001B[0m \u001B[0;34m=\u001B[0m \u001B[0my_train\u001B[0m\u001B[0;34m)\u001B[0m\u001B[0;34m\u001B[0m\u001B[0;34m\u001B[0m\u001B[0m\n\u001B[1;32m      3\u001B[0m \u001B[0mgraph\u001B[0m\u001B[0;34m.\u001B[0m\u001B[0mset\u001B[0m\u001B[0;34m(\u001B[0m\u001B[0myscale\u001B[0m\u001B[0;34m=\u001B[0m\u001B[0;34m'log'\u001B[0m\u001B[0;34m,\u001B[0m \u001B[0mylim\u001B[0m\u001B[0;34m=\u001B[0m\u001B[0;34m(\u001B[0m\u001B[0;36m10e-30\u001B[0m\u001B[0;34m,\u001B[0m\u001B[0;36m10\u001B[0m\u001B[0;34m)\u001B[0m\u001B[0;34m)\u001B[0m\u001B[0;34m\u001B[0m\u001B[0;34m\u001B[0m\u001B[0m\n\u001B[1;32m      4\u001B[0m \u001B[0mX_train_np\u001B[0m \u001B[0;34m=\u001B[0m \u001B[0mX_train\u001B[0m\u001B[0;34m.\u001B[0m\u001B[0mvalues\u001B[0m\u001B[0;34m.\u001B[0m\u001B[0mreshape\u001B[0m\u001B[0;34m(\u001B[0m\u001B[0;34m-\u001B[0m\u001B[0;36m1\u001B[0m\u001B[0;34m,\u001B[0m \u001B[0;36m1\u001B[0m\u001B[0;34m)\u001B[0m\u001B[0;34m\u001B[0m\u001B[0;34m\u001B[0m\u001B[0m\n\u001B[1;32m      5\u001B[0m \u001B[0mX_test\u001B[0m \u001B[0;34m=\u001B[0m \u001B[0mX_test\u001B[0m\u001B[0;34m.\u001B[0m\u001B[0mvalues\u001B[0m\u001B[0;34m.\u001B[0m\u001B[0mreshape\u001B[0m\u001B[0;34m(\u001B[0m\u001B[0;34m-\u001B[0m\u001B[0;36m1\u001B[0m\u001B[0;34m,\u001B[0m \u001B[0;36m1\u001B[0m\u001B[0;34m)\u001B[0m\u001B[0;34m\u001B[0m\u001B[0;34m\u001B[0m\u001B[0m\n",
      "\u001B[0;31mNameError\u001B[0m: name 'data_frame' is not defined"
     ]
    }
   ],
   "source": [
    "X_train, X_test, y_train, y_test = train_test_split(data_frame['Evalue hit'], data_frame['Kunitz'], test_size=0.5)\n",
    "graph = sns.stripplot(y = X_train, x = y_train)\n",
    "graph.set(yscale='log', ylim=(10e-30,10))\n",
    "X_train_np = X_train.values.reshape(-1, 1)\n",
    "X_test = X_test.values.reshape(-1, 1)\n",
    "model = LogisticRegression()\n",
    "model.fit(X_train_np, y_train)\n",
    "accuracy = model.score(X_test, y_test)\n",
    "print(model.coef_)\n",
    "test_confusion = plot_confusion_matrix(model, X_test, y_test)"
   ]
  },
  {
   "cell_type": "code",
   "execution_count": null,
   "metadata": {
    "collapsed": false,
    "jupyter": {
     "outputs_hidden": false
    },
    "pycharm": {
     "is_executing": true,
     "name": "#%%\n"
    }
   },
   "outputs": [],
   "source": []
  },
  {
   "cell_type": "code",
   "execution_count": null,
   "metadata": {
    "pycharm": {
     "is_executing": true
    }
   },
   "outputs": [],
   "source": []
  },
  {
   "cell_type": "code",
   "execution_count": null,
   "metadata": {
    "pycharm": {
     "is_executing": true
    }
   },
   "outputs": [],
   "source": []
  }
 ],
 "metadata": {
  "kernelspec": {
   "display_name": "Python 3",
   "language": "python",
   "name": "python3"
  },
  "language_info": {
   "codemirror_mode": {
    "name": "ipython",
    "version": 3
   },
   "file_extension": ".py",
   "mimetype": "text/x-python",
   "name": "python",
   "nbconvert_exporter": "python",
   "pygments_lexer": "ipython3",
   "version": "3.6.10"
  }
 },
 "nbformat": 4,
 "nbformat_minor": 4
}